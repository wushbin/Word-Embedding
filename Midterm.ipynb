{
 "cells": [
  {
   "cell_type": "code",
   "execution_count": 1,
   "metadata": {
    "collapsed": true
   },
   "outputs": [],
   "source": [
    "import csv\n",
    "import numpy as np"
   ]
  },
  {
   "cell_type": "code",
   "execution_count": 2,
   "metadata": {
    "collapsed": true
   },
   "outputs": [],
   "source": [
    "## import the matrix from co_occur.csv\n",
    "Matrix = np.loadtxt(open(\"./co_occur.csv\", \"rb\"), delimiter=\",\")\n",
    "## import the word dict\n",
    "with open('./dictionary.txt') as file:\n",
    "    content = file.readlines()\n",
    "word_dict = [x.strip() for x in content]\n",
    "word_index = {}\n",
    "for index, word in enumerate(word_dict):\n",
    "    word_index[word] = index"
   ]
  },
  {
   "cell_type": "markdown",
   "metadata": {},
   "source": [
    "### Sparse Vector Representation: PPMI \n",
    "Add 2 smooth PPMI"
   ]
  },
  {
   "cell_type": "code",
   "execution_count": 3,
   "metadata": {
    "collapsed": true
   },
   "outputs": [],
   "source": [
    "Matrix_pmi = Matrix + 2\n",
    "Matrix_sum = np.sum(Matrix_pmi)"
   ]
  },
  {
   "cell_type": "code",
   "execution_count": 4,
   "metadata": {
    "collapsed": true
   },
   "outputs": [],
   "source": [
    "P_ij = (Matrix_pmi) / Matrix_sum\n",
    "P_w = (np.sum(Matrix_pmi, axis = 1).reshape(Matrix_pmi.shape[0], 1)) / Matrix_sum \n",
    "P_c = (np.sum(Matrix_pmi, axis = 0).reshape(1, Matrix_pmi.shape[1])) / Matrix_sum \n",
    "pmi = np.log2(P_ij / np.dot(P_w, P_c))"
   ]
  },
  {
   "cell_type": "code",
   "execution_count": 5,
   "metadata": {
    "collapsed": true
   },
   "outputs": [],
   "source": [
    "pmi[pmi < 0] = 0"
   ]
  },
  {
   "cell_type": "markdown",
   "metadata": {},
   "source": [
    "#### cosine similarity analysis"
   ]
  },
  {
   "cell_type": "code",
   "execution_count": null,
   "metadata": {},
   "outputs": [],
   "source": [
    "np.vdot([2,0,0], [1,6,1])"
   ]
  },
  {
   "cell_type": "code",
   "execution_count": 6,
   "metadata": {
    "collapsed": true
   },
   "outputs": [],
   "source": [
    "def ppmi_cosine(str_input):\n",
    "    idx = word_index[str_input]\n",
    "    similarities = []\n",
    "    input_norm = np.linalg.norm(pmi[idx,:])\n",
    "    ## get the cosine value of input string with all other words \n",
    "    for j in range(pmi.shape[0]):\n",
    "        similarities.append(np.vdot(pmi[idx,:], pmi[j,:]) / (input_norm * np.linalg.norm(pmi[j,:])))\n",
    "    similarities_sorted = np.argsort(similarities)\n",
    "    largest10 = similarities_sorted[-10 :]\n",
    "    return largest10[::-1] \n"
   ]
  },
  {
   "cell_type": "code",
   "execution_count": 7,
   "metadata": {},
   "outputs": [
    {
     "name": "stdout",
     "output_type": "stream",
     "text": [
      ": top 10 most similar: \n",
      "['walk', 'walking', 'walks', 'walked', 'climb', 'swim', 'ride', 'throw', 'sit', 'wait']\n"
     ]
    }
   ],
   "source": [
    "output = ppmi_cosine('walk')\n",
    "print(': ' + 'top 10 most similar: ')   \n",
    "print([word_dict[index] for index in output])"
   ]
  },
  {
   "cell_type": "code",
   "execution_count": null,
   "metadata": {
    "collapsed": true
   },
   "outputs": [],
   "source": [
    "def pmi_analogy_analysis(s1, s2, t1):\n",
    "    existed = [s1,s2,t1]\n",
    "    v_analogy = pmi[word_index[s2],:] - pmi[word_index[s1], :] + pmi[word_index[t1],:]\n",
    "    similarities = []\n",
    "    input_norm = np.linalg.norm(v_analogy)\n",
    "    for j in range(pmi.shape[0]):\n",
    "        similarities.append(np.vdot(v_analogy, pmi[j,:]) / (input_norm * np.linalg.norm(pmi[j,:])))\n",
    "    similarities_sorted = np.argsort(similarities)\n",
    "    largest10 = similarities_sorted[-10:]\n",
    "    candidates = [word_dict[index] for index in largest10[::-1]]\n",
    "    for candidate in candidates:\n",
    "        if not (candidate in existed):\n",
    "            return candidate\n",
    "    return ''"
   ]
  },
  {
   "cell_type": "code",
   "execution_count": null,
   "metadata": {
    "collapsed": true
   },
   "outputs": [],
   "source": []
  },
  {
   "cell_type": "code",
   "execution_count": null,
   "metadata": {
    "collapsed": true
   },
   "outputs": [],
   "source": [
    "def analogy(s1, s2, t1):   \n",
    "    output = pmi_analogy_analysis(s1, s2, t1)\n",
    "    print('\\'' + s1 + ' to ' + s2 + '\\'' + ' is similar as ' + '\\''+ t1 + ' to ' + output + '\\'')"
   ]
  },
  {
   "cell_type": "code",
   "execution_count": null,
   "metadata": {},
   "outputs": [],
   "source": [
    "analogy('man', 'woman', 'king')"
   ]
  },
  {
   "cell_type": "code",
   "execution_count": null,
   "metadata": {},
   "outputs": [],
   "source": [
    "with open('./analogy_task.txt') as file:\n",
    "    analogy_list = [[word.rstrip('\\n') for word in line.split(' ')] for line in file]\n",
    "count = 0\n",
    "for analogy in analogy_list:\n",
    "    output = pmi_analogy_analysis(analogy[0], analogy[1], analogy[2])\n",
    "    if output == analogy[3]:\n",
    "        count += 1\n",
    "print('accuracy: ' + str(count / len(analogy_list)))"
   ]
  },
  {
   "cell_type": "code",
   "execution_count": null,
   "metadata": {},
   "outputs": [],
   "source": [
    "len(analogy_list)"
   ]
  },
  {
   "cell_type": "markdown",
   "metadata": {},
   "source": [
    "### Dense Vector Representation: SVD Analysis"
   ]
  },
  {
   "cell_type": "code",
   "execution_count": 8,
   "metadata": {
    "collapsed": true
   },
   "outputs": [],
   "source": [
    "M = np.log(1 + Matrix)\n",
    "W, s, C = np.linalg.svd(M)"
   ]
  },
  {
   "cell_type": "code",
   "execution_count": 9,
   "metadata": {},
   "outputs": [
    {
     "data": {
      "image/png": "[encoded data removed]",
      "text/plain": [
       "<matplotlib.figure.Figure at 0x1836bff60>"
      ]
     },
     "metadata": {},
     "output_type": "display_data"
    }
   ],
   "source": [
    "import matplotlib.pyplot as plt\n",
    "fig = plt.figure(figsize = (6,6), dpi = 80)\n",
    "plt.plot(s.reshape(10000,1))\n",
    "plt.show()"
   ]
  },
  {
   "cell_type": "markdown",
   "metadata": {},
   "source": [
    "#### a low-rank approximation"
   ]
  },
  {
   "cell_type": "code",
   "execution_count": 10,
   "metadata": {
    "collapsed": true
   },
   "outputs": [],
   "source": [
    "s_k = np.diag(s[:100])\n",
    "W_k = W[:,: 100]\n",
    "C_k = C[: 100,:]\n",
    "M_k = np.dot(np.dot(W_k, s_k), C_k)"
   ]
  },
  {
   "cell_type": "code",
   "execution_count": null,
   "metadata": {
    "collapsed": true
   },
   "outputs": [],
   "source": [
    "W_k.shape"
   ]
  },
  {
   "cell_type": "markdown",
   "metadata": {},
   "source": [
    "W_k"
   ]
  },
  {
   "cell_type": "code",
   "execution_count": null,
   "metadata": {
    "collapsed": true
   },
   "outputs": [],
   "source": [
    "interested = [0,1,2,3,4]\n",
    "for index in interested:\n",
    "    vector = W[:, index]\n",
    "    vector_sorted = np.argsort(vector)\n",
    "    largest10 = vector_sorted[-10:]\n",
    "    smallest10 = vector_sorted[:10]\n",
    "    print('-' * 4 + \"Vector \" + str(index) + ':')\n",
    "    print('top 10 most relevant: ' )   \n",
    "    print([word_dict[index] for index in largest10[::-1]])\n",
    "    print('top 10 least relevant:' )\n",
    "    print([word_dict[index] for index in smallest10])"
   ]
  },
  {
   "cell_type": "markdown",
   "metadata": {},
   "source": [
    "#### Normalization\n",
    "we can regard the rows of W_normalized as word embeding "
   ]
  },
  {
   "cell_type": "code",
   "execution_count": 11,
   "metadata": {
    "collapsed": true
   },
   "outputs": [],
   "source": [
    "l2norm_W = np.sqrt((W * W).sum(axis=1))\n",
    "W_normalized =  W / l2norm_W.reshape(W.shape[0],1)"
   ]
  },
  {
   "cell_type": "code",
   "execution_count": 12,
   "metadata": {
    "collapsed": true
   },
   "outputs": [],
   "source": [
    "l2norm_Wk = np.sqrt((W_k * W_k).sum(axis=1))\n",
    "Wk_normalized =  W_k / l2norm_Wk.reshape(W_k.shape[0],1)"
   ]
  },
  {
   "cell_type": "code",
   "execution_count": null,
   "metadata": {
    "collapsed": true
   },
   "outputs": [],
   "source": [
    "## 'woman'\n",
    "v_woman = Wk_normalized[word_index['woman']]\n",
    "## 'man'\n",
    "v_man = Wk_normalized[word_index['man']]\n",
    "## v1 - v2\n",
    "v_wm = v_woman"
   ]
  },
  {
   "cell_type": "code",
   "execution_count": null,
   "metadata": {
    "collapsed": true
   },
   "outputs": [],
   "source": [
    "test_list = ['boy', 'girl', 'brother', 'sister', 'king', 'queen', 'he', 'she', 'john', 'mary', 'wall', 'tree']\n",
    "project_list = []\n",
    "for word in test_list:\n",
    "    v_test = Wk_normalized[word_index[word]]\n",
    "    projection = np.vdot(v_test, v_wm)\n",
    "    project_list.append(projection)\n",
    "\n",
    "import matplotlib.pyplot as plt\n",
    "fig = plt.figure(figsize = (8,8), dpi = 80)\n",
    "ax = fig.add_subplot(111)\n",
    "plt.plot(project_list, 'ro')\n",
    "for index, value in enumerate(project_list):\n",
    "    ax.annotate('(%s, %s)' %(test_list[index],value), xy=(index,value), textcoords='data')\n",
    "plt.show()"
   ]
  },
  {
   "cell_type": "code",
   "execution_count": null,
   "metadata": {
    "collapsed": true
   },
   "outputs": [],
   "source": [
    "test_list2 = ['math', 'history', 'nurse', 'doctor', 'pilot', \n",
    "             'teacher', 'engineer', 'science', 'arts', 'literature', 'bob', 'alice']\n",
    "project_list2 = []\n",
    "for word in test_list2:\n",
    "    v_test = Wk_normalized[word_index[word]]\n",
    "    project = np.vdot(v_test, v_wm)\n",
    "    project_list2.append(project)\n",
    "\n",
    "import matplotlib.pyplot as plt\n",
    "fig = plt.figure(figsize = (8,8), dpi = 80)\n",
    "ax = fig.add_subplot(111)\n",
    "\n",
    "plt.plot(project_list2, 'bo')\n",
    "for index, value in enumerate(project_list2):\n",
    "    ax.annotate('(%s, %s)' %(test_list2[index],value), xy=(index, value), textcoords='data')\n",
    "plt.show()"
   ]
  },
  {
   "cell_type": "markdown",
   "metadata": {},
   "source": [
    "### similarity analysis"
   ]
  },
  {
   "cell_type": "code",
   "execution_count": null,
   "metadata": {
    "collapsed": true
   },
   "outputs": [],
   "source": [
    "Matrix_similarity = np.dot(Wk_normalized, Wk_normalized.transpose()) "
   ]
  },
  {
   "cell_type": "code",
   "execution_count": null,
   "metadata": {
    "collapsed": true
   },
   "outputs": [],
   "source": [
    "index = word_index['good']\n",
    "temp_vector = Matrix_similarity[index, :]\n",
    "vector_sorted = np.argsort(temp_vector)\n",
    "largest10 = vector_sorted[-10 :]\n",
    "print(': ' + 'top 10 most similar:' + '-' * 4 )   \n",
    "print([word_dict[index] for index in largest10[::-1]])"
   ]
  },
  {
   "cell_type": "code",
   "execution_count": 13,
   "metadata": {
    "collapsed": true
   },
   "outputs": [],
   "source": [
    "def svd_similar(str_input):\n",
    "    index = word_index[str_input]\n",
    "    similarities = []\n",
    "    for j in range(Wk_normalized.shape[0]):\n",
    "        similarities.append(np.vdot(Wk_normalized[index,:], Wk_normalized[j,:]))\n",
    "    vector_sorted = np.argsort(similarities)\n",
    "    largest10 = vector_sorted[-10 :]\n",
    "    print(str_input +': ' + 'top 10 most similar:' + '-' * 4 )   \n",
    "    print([word_dict[index] for index in largest10[::-1]])"
   ]
  },
  {
   "cell_type": "code",
   "execution_count": 14,
   "metadata": {},
   "outputs": [
    {
     "name": "stdout",
     "output_type": "stream",
     "text": [
      "sister: top 10 most similar:----\n",
      "['sister', 'daughter', 'mother', 'wife', 'aunt', 'daughters', 'grandmother', 'niece', 'sisters', 'cousin']\n"
     ]
    }
   ],
   "source": [
    "svd_similar('sister')"
   ]
  },
  {
   "cell_type": "markdown",
   "metadata": {},
   "source": [
    "#### “man is to woman as king is to __”"
   ]
  },
  {
   "cell_type": "code",
   "execution_count": 15,
   "metadata": {},
   "outputs": [
    {
     "name": "stdout",
     "output_type": "stream",
     "text": [
      "['women', 'king', 'queen', 'crown', 'alexander']\n"
     ]
    }
   ],
   "source": [
    "v_mwk = Wk_normalized[word_index['women'],:] - Wk_normalized[word_index['man'], :] + Wk_normalized[word_index['king'],:]\n",
    "from scipy import spatial\n",
    "tree = spatial.KDTree(Wk_normalized)\n",
    "list_search = tree.query(v_mwk, k = 5)\n",
    "print([word_dict[index] for index in list_search[1]])"
   ]
  },
  {
   "cell_type": "code",
   "execution_count": 27,
   "metadata": {
    "collapsed": true
   },
   "outputs": [],
   "source": [
    "## s1: france\n",
    "## s2: paris\n",
    "## t1: italy\n",
    "from scipy import spatial\n",
    "def analogy_analysis(s1, s2, t1):\n",
    "    existed = [s1,s2,t1]\n",
    "    v_analogy = Wk_normalized[word_index[s2],:] - Wk_normalized[word_index[s1], :] + Wk_normalized[word_index[t1],:]\n",
    "    tree = spatial.KDTree(Wk_normalized)\n",
    "    list_search = tree.query(v_analogy, k = 10)\n",
    "    candidates = [word_dict[index] for index in list_search[1]]\n",
    "    for candidate in candidates:\n",
    "        if not (candidate in existed):\n",
    "            return candidate\n",
    "    print('no found')\n",
    "    return ''"
   ]
  },
  {
   "cell_type": "code",
   "execution_count": 29,
   "metadata": {},
   "outputs": [
    {
     "data": {
      "text/plain": [
       "'bangkok'"
      ]
     },
     "execution_count": 29,
     "metadata": {},
     "output_type": "execute_result"
    }
   ],
   "source": [
    "analogy_analysis('china', 'shanghai', 'thailand')"
   ]
  },
  {
   "cell_type": "code",
   "execution_count": 30,
   "metadata": {},
   "outputs": [
    {
     "name": "stdout",
     "output_type": "stream",
     "text": [
      "accuracy: 0.5498657117278425\n"
     ]
    }
   ],
   "source": [
    "with open('./analogy_task.txt') as file:\n",
    "    analogy_list = [[word.rstrip('\\n') for word in line.split(' ')] for line in file]\n",
    "count = 0\n",
    "for analogy in analogy_list:\n",
    "    output = analogy_analysis(analogy[0], analogy[1], analogy[2])\n",
    "    if output == analogy[3]:\n",
    "        count += 1\n",
    "print('accuracy: ' + str(count / len(analogy_list)))"
   ]
  }
 ],
 "metadata": {
  "kernelspec": {
   "display_name": "Python [conda env:nlp-env]",
   "language": "python",
   "name": "conda-env-nlp-env-py"
  },
  "language_info": {
   "codemirror_mode": {
    "name": "ipython",
    "version": 3
   },
   "file_extension": ".py",
   "mimetype": "text/x-python",
   "name": "python",
   "nbconvert_exporter": "python",
   "pygments_lexer": "ipython3",
   "version": "3.6.2"
  }
 },
 "nbformat": 4,
 "nbformat_minor": 2
}
